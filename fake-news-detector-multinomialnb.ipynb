{
 "cells": [
  {
   "cell_type": "code",
   "execution_count": 1,
   "metadata": {
    "_cell_guid": "b1076dfc-b9ad-4769-8c92-a6c4dae69d19",
    "_uuid": "8f2839f25d086af736a60e9eeb907d3b93b6e0e5",
    "execution": {
     "iopub.execute_input": "2021-09-11T13:14:58.908838Z",
     "iopub.status.busy": "2021-09-11T13:14:58.907956Z",
     "iopub.status.idle": "2021-09-11T13:14:58.913991Z",
     "shell.execute_reply": "2021-09-11T13:14:58.913360Z",
     "shell.execute_reply.started": "2021-09-11T12:54:31.071655Z"
    },
    "papermill": {
     "duration": 0.03494,
     "end_time": "2021-09-11T13:14:58.914118",
     "exception": false,
     "start_time": "2021-09-11T13:14:58.879178",
     "status": "completed"
    },
    "tags": []
   },
   "outputs": [
    {
     "name": "stdout",
     "output_type": "stream",
     "text": [
      "/kaggle/input/fake-news/submit.csv\n",
      "/kaggle/input/fake-news/train.csv\n",
      "/kaggle/input/fake-news/test.csv\n"
     ]
    }
   ],
   "source": [
    "# This Python 3 environment comes with many helpful analytics libraries installed\n",
    "# It is defined by the kaggle/python Docker image: https://github.com/kaggle/docker-python\n",
    "# For example, here's several helpful packages to load\n",
    "\n",
    "import numpy as np # linear algebra\n",
    "import pandas as pd # data processing, CSV file I/O (e.g. pd.read_csv)\n",
    "\n",
    "# Input data files are available in the read-only \"../input/\" directory\n",
    "# For example, running this (by clicking run or pressing Shift+Enter) will list all files under the input directory\n",
    "\n",
    "import os\n",
    "for dirname, _, filenames in os.walk('/kaggle/input'):\n",
    "    for filename in filenames:\n",
    "        print(os.path.join(dirname, filename))\n",
    "\n",
    "# You can write up to 20GB to the current directory (/kaggle/working/) that gets preserved as output when you create a version using \"Save & Run All\" \n",
    "# You can also write temporary files to /kaggle/temp/, but they won't be saved outside of the current session"
   ]
  },
  {
   "cell_type": "code",
   "execution_count": 2,
   "metadata": {
    "_cell_guid": "79c7e3d0-c299-4dcb-8224-4455121ee9b0",
    "_uuid": "d629ff2d2480ee46fbb7e2d37f6b5fab8052498a",
    "execution": {
     "iopub.execute_input": "2021-09-11T13:14:58.960362Z",
     "iopub.status.busy": "2021-09-11T13:14:58.959719Z",
     "iopub.status.idle": "2021-09-11T13:15:01.168887Z",
     "shell.execute_reply": "2021-09-11T13:15:01.169783Z",
     "shell.execute_reply.started": "2021-09-11T12:57:47.847221Z"
    },
    "papermill": {
     "duration": 2.236205,
     "end_time": "2021-09-11T13:15:01.169979",
     "exception": false,
     "start_time": "2021-09-11T13:14:58.933774",
     "status": "completed"
    },
    "tags": []
   },
   "outputs": [],
   "source": [
    "train = pd.read_csv('/kaggle/input/fake-news/train.csv')"
   ]
  },
  {
   "cell_type": "code",
   "execution_count": 3,
   "metadata": {
    "execution": {
     "iopub.execute_input": "2021-09-11T13:15:01.230838Z",
     "iopub.status.busy": "2021-09-11T13:15:01.229842Z",
     "iopub.status.idle": "2021-09-11T13:15:02.314982Z",
     "shell.execute_reply": "2021-09-11T13:15:02.314192Z",
     "shell.execute_reply.started": "2021-09-11T12:57:52.805330Z"
    },
    "papermill": {
     "duration": 1.119485,
     "end_time": "2021-09-11T13:15:02.315125",
     "exception": false,
     "start_time": "2021-09-11T13:15:01.195640",
     "status": "completed"
    },
    "tags": []
   },
   "outputs": [],
   "source": [
    "import regex as re\n",
    "from sklearn.feature_extraction.text import TfidfVectorizer\n",
    "from sklearn.model_selection import train_test_split\n",
    "from sklearn.naive_bayes import MultinomialNB\n",
    "from sklearn.metrics import accuracy_score, recall_score, precision_score, plot_confusion_matrix\n",
    "import matplotlib.pyplot as plt"
   ]
  },
  {
   "cell_type": "code",
   "execution_count": 4,
   "metadata": {
    "execution": {
     "iopub.execute_input": "2021-09-11T13:15:02.361077Z",
     "iopub.status.busy": "2021-09-11T13:15:02.360341Z",
     "iopub.status.idle": "2021-09-11T13:15:02.376752Z",
     "shell.execute_reply": "2021-09-11T13:15:02.376123Z",
     "shell.execute_reply.started": "2021-09-11T12:58:09.520263Z"
    },
    "papermill": {
     "duration": 0.041865,
     "end_time": "2021-09-11T13:15:02.376893",
     "exception": false,
     "start_time": "2021-09-11T13:15:02.335028",
     "status": "completed"
    },
    "tags": []
   },
   "outputs": [],
   "source": [
    "train.fillna('Not Available', inplace=True)"
   ]
  },
  {
   "cell_type": "code",
   "execution_count": 5,
   "metadata": {
    "execution": {
     "iopub.execute_input": "2021-09-11T13:15:02.427940Z",
     "iopub.status.busy": "2021-09-11T13:15:02.426922Z",
     "iopub.status.idle": "2021-09-11T13:15:16.704001Z",
     "shell.execute_reply": "2021-09-11T13:15:16.704504Z",
     "shell.execute_reply.started": "2021-09-11T12:58:21.894398Z"
    },
    "papermill": {
     "duration": 14.308632,
     "end_time": "2021-09-11T13:15:16.704697",
     "exception": false,
     "start_time": "2021-09-11T13:15:02.396065",
     "status": "completed"
    },
    "tags": []
   },
   "outputs": [
    {
     "data": {
      "text/html": [
       "<div>\n",
       "<style scoped>\n",
       "    .dataframe tbody tr th:only-of-type {\n",
       "        vertical-align: middle;\n",
       "    }\n",
       "\n",
       "    .dataframe tbody tr th {\n",
       "        vertical-align: top;\n",
       "    }\n",
       "\n",
       "    .dataframe thead th {\n",
       "        text-align: right;\n",
       "    }\n",
       "</style>\n",
       "<table border=\"1\" class=\"dataframe\">\n",
       "  <thead>\n",
       "    <tr style=\"text-align: right;\">\n",
       "      <th></th>\n",
       "      <th>id</th>\n",
       "      <th>title</th>\n",
       "      <th>author</th>\n",
       "      <th>text</th>\n",
       "      <th>label</th>\n",
       "    </tr>\n",
       "  </thead>\n",
       "  <tbody>\n",
       "    <tr>\n",
       "      <th>0</th>\n",
       "      <td>0</td>\n",
       "      <td>house dem aide  we didn t even see comey s let...</td>\n",
       "      <td>darrell lucus</td>\n",
       "      <td>house dem aide  we didn t even see comey s let...</td>\n",
       "      <td>1</td>\n",
       "    </tr>\n",
       "    <tr>\n",
       "      <th>1</th>\n",
       "      <td>1</td>\n",
       "      <td>flynn  hillary clinton, big woman on campus   ...</td>\n",
       "      <td>daniel j  flynn</td>\n",
       "      <td>ever get the feeling your life circles the rou...</td>\n",
       "      <td>0</td>\n",
       "    </tr>\n",
       "    <tr>\n",
       "      <th>2</th>\n",
       "      <td>2</td>\n",
       "      <td>why the truth might get you fired</td>\n",
       "      <td>consortiumnews com</td>\n",
       "      <td>why the truth might get you fired october   , ...</td>\n",
       "      <td>1</td>\n",
       "    </tr>\n",
       "    <tr>\n",
       "      <th>3</th>\n",
       "      <td>3</td>\n",
       "      <td>civilians killed in single us airstrike hav...</td>\n",
       "      <td>jessica purkiss</td>\n",
       "      <td>videos    civilians killed in single us airstr...</td>\n",
       "      <td>1</td>\n",
       "    </tr>\n",
       "    <tr>\n",
       "      <th>4</th>\n",
       "      <td>4</td>\n",
       "      <td>iranian woman jailed for fictional unpublished...</td>\n",
       "      <td>howard portnoy</td>\n",
       "      <td>print  an iranian woman has been sentenced to ...</td>\n",
       "      <td>1</td>\n",
       "    </tr>\n",
       "  </tbody>\n",
       "</table>\n",
       "</div>"
      ],
      "text/plain": [
       "   id                                              title              author  \\\n",
       "0   0  house dem aide  we didn t even see comey s let...       darrell lucus   \n",
       "1   1  flynn  hillary clinton, big woman on campus   ...     daniel j  flynn   \n",
       "2   2                  why the truth might get you fired  consortiumnews com   \n",
       "3   3     civilians killed in single us airstrike hav...     jessica purkiss   \n",
       "4   4  iranian woman jailed for fictional unpublished...      howard portnoy   \n",
       "\n",
       "                                                text  label  \n",
       "0  house dem aide  we didn t even see comey s let...      1  \n",
       "1  ever get the feeling your life circles the rou...      0  \n",
       "2  why the truth might get you fired october   , ...      1  \n",
       "3  videos    civilians killed in single us airstr...      1  \n",
       "4  print  an iranian woman has been sentenced to ...      1  "
      ]
     },
     "execution_count": 5,
     "metadata": {},
     "output_type": "execute_result"
    }
   ],
   "source": [
    "for col in ['title', 'author', 'text']:\n",
    "    train[col] = train[col].apply(lambda x : re.sub('[^a-z,A-Z]', ' ', x).lower())\n",
    "\n",
    "train.head()"
   ]
  },
  {
   "cell_type": "code",
   "execution_count": 6,
   "metadata": {
    "execution": {
     "iopub.execute_input": "2021-09-11T13:15:16.751005Z",
     "iopub.status.busy": "2021-09-11T13:15:16.750274Z",
     "iopub.status.idle": "2021-09-11T13:15:16.826261Z",
     "shell.execute_reply": "2021-09-11T13:15:16.825640Z",
     "shell.execute_reply.started": "2021-09-11T12:58:40.595288Z"
    },
    "papermill": {
     "duration": 0.101694,
     "end_time": "2021-09-11T13:15:16.826394",
     "exception": false,
     "start_time": "2021-09-11T13:15:16.724700",
     "status": "completed"
    },
    "tags": []
   },
   "outputs": [],
   "source": [
    "# Considering all features\n",
    "train['total'] = train['title'] + ' ' + train['author'] + ' ' + train['text']"
   ]
  },
  {
   "cell_type": "code",
   "execution_count": 7,
   "metadata": {
    "execution": {
     "iopub.execute_input": "2021-09-11T13:15:16.891415Z",
     "iopub.status.busy": "2021-09-11T13:15:16.886244Z",
     "iopub.status.idle": "2021-09-11T13:16:15.365176Z",
     "shell.execute_reply": "2021-09-11T13:16:15.364551Z",
     "shell.execute_reply.started": "2021-09-11T12:58:52.736019Z"
    },
    "papermill": {
     "duration": 58.518377,
     "end_time": "2021-09-11T13:16:15.365308",
     "exception": false,
     "start_time": "2021-09-11T13:15:16.846931",
     "status": "completed"
    },
    "tags": []
   },
   "outputs": [],
   "source": [
    "# tf-idf\n",
    "vectorizer = TfidfVectorizer(stop_words='english', max_features=5000, ngram_range=(1,2))\n",
    "X = vectorizer.fit_transform(train['total'].values)"
   ]
  },
  {
   "cell_type": "code",
   "execution_count": 8,
   "metadata": {
    "execution": {
     "iopub.execute_input": "2021-09-11T13:16:15.410311Z",
     "iopub.status.busy": "2021-09-11T13:16:15.409656Z",
     "iopub.status.idle": "2021-09-11T13:16:15.413461Z",
     "shell.execute_reply": "2021-09-11T13:16:15.412947Z",
     "shell.execute_reply.started": "2021-09-11T12:59:55.419453Z"
    },
    "papermill": {
     "duration": 0.028534,
     "end_time": "2021-09-11T13:16:15.413600",
     "exception": false,
     "start_time": "2021-09-11T13:16:15.385066",
     "status": "completed"
    },
    "tags": []
   },
   "outputs": [],
   "source": [
    "y = train['label'].values"
   ]
  },
  {
   "cell_type": "code",
   "execution_count": 9,
   "metadata": {
    "execution": {
     "iopub.execute_input": "2021-09-11T13:16:15.457077Z",
     "iopub.status.busy": "2021-09-11T13:16:15.456370Z",
     "iopub.status.idle": "2021-09-11T13:16:15.481250Z",
     "shell.execute_reply": "2021-09-11T13:16:15.481852Z",
     "shell.execute_reply.started": "2021-09-11T12:59:58.120239Z"
    },
    "papermill": {
     "duration": 0.048394,
     "end_time": "2021-09-11T13:16:15.482026",
     "exception": false,
     "start_time": "2021-09-11T13:16:15.433632",
     "status": "completed"
    },
    "tags": []
   },
   "outputs": [],
   "source": [
    "X_train, X_test, y_train, y_test = train_test_split(X, y, test_size=0.3, random_state=43)"
   ]
  },
  {
   "cell_type": "code",
   "execution_count": 10,
   "metadata": {
    "execution": {
     "iopub.execute_input": "2021-09-11T13:16:15.530030Z",
     "iopub.status.busy": "2021-09-11T13:16:15.528655Z",
     "iopub.status.idle": "2021-09-11T13:16:15.560655Z",
     "shell.execute_reply": "2021-09-11T13:16:15.559947Z",
     "shell.execute_reply.started": "2021-09-11T13:01:03.360219Z"
    },
    "papermill": {
     "duration": 0.058637,
     "end_time": "2021-09-11T13:16:15.560794",
     "exception": false,
     "start_time": "2021-09-11T13:16:15.502157",
     "status": "completed"
    },
    "tags": []
   },
   "outputs": [
    {
     "data": {
      "text/plain": [
       "MultinomialNB()"
      ]
     },
     "execution_count": 10,
     "metadata": {},
     "output_type": "execute_result"
    }
   ],
   "source": [
    "# MultinomialNB with default parameter value\n",
    "classifier=MultinomialNB()\n",
    "classifier.fit(X_train, y_train)"
   ]
  },
  {
   "cell_type": "code",
   "execution_count": 11,
   "metadata": {
    "execution": {
     "iopub.execute_input": "2021-09-11T13:16:15.607198Z",
     "iopub.status.busy": "2021-09-11T13:16:15.606445Z",
     "iopub.status.idle": "2021-09-11T13:16:15.617873Z",
     "shell.execute_reply": "2021-09-11T13:16:15.617188Z",
     "shell.execute_reply.started": "2021-09-11T13:01:28.009949Z"
    },
    "papermill": {
     "duration": 0.037036,
     "end_time": "2021-09-11T13:16:15.618015",
     "exception": false,
     "start_time": "2021-09-11T13:16:15.580979",
     "status": "completed"
    },
    "tags": []
   },
   "outputs": [],
   "source": [
    "y_pred = classifier.predict(X_test)"
   ]
  },
  {
   "cell_type": "code",
   "execution_count": 12,
   "metadata": {
    "execution": {
     "iopub.execute_input": "2021-09-11T13:16:15.668042Z",
     "iopub.status.busy": "2021-09-11T13:16:15.666819Z",
     "iopub.status.idle": "2021-09-11T13:16:15.681290Z",
     "shell.execute_reply": "2021-09-11T13:16:15.680586Z",
     "shell.execute_reply.started": "2021-09-11T13:01:38.870848Z"
    },
    "papermill": {
     "duration": 0.042216,
     "end_time": "2021-09-11T13:16:15.681429",
     "exception": false,
     "start_time": "2021-09-11T13:16:15.639213",
     "status": "completed"
    },
    "tags": []
   },
   "outputs": [
    {
     "name": "stdout",
     "output_type": "stream",
     "text": [
      "Validation Accuracy: 0.91 Validation Precision: 0.88 Validation Recall: 0.93\n"
     ]
    }
   ],
   "source": [
    "print('Validation Accuracy: {:.2f} Validation Precision: {:.2f} Validation Recall: {:.2f}'.format(\n",
    "    accuracy_score(y_pred, y_test),\n",
    "    precision_score(y_pred, y_test),\n",
    "    recall_score(y_pred, y_test)\n",
    "))"
   ]
  },
  {
   "cell_type": "code",
   "execution_count": 13,
   "metadata": {
    "execution": {
     "iopub.execute_input": "2021-09-11T13:16:15.727381Z",
     "iopub.status.busy": "2021-09-11T13:16:15.726673Z",
     "iopub.status.idle": "2021-09-11T13:16:15.955294Z",
     "shell.execute_reply": "2021-09-11T13:16:15.954611Z",
     "shell.execute_reply.started": "2021-09-11T13:01:59.680596Z"
    },
    "papermill": {
     "duration": 0.252658,
     "end_time": "2021-09-11T13:16:15.955432",
     "exception": false,
     "start_time": "2021-09-11T13:16:15.702774",
     "status": "completed"
    },
    "tags": []
   },
   "outputs": [
    {
     "data": {
      "image/png": "[encoded data removed]",
      "text/plain": [
       "<Figure size 432x288 with 2 Axes>"
      ]
     },
     "metadata": {
      "needs_background": "light"
     },
     "output_type": "display_data"
    }
   ],
   "source": [
    "clf = plot_confusion_matrix(classifier, X_test, y_test,\n",
    "                      display_labels=['FAKE', 'REAL'],\n",
    "                      cmap=plt.cm.Blues,\n",
    "                      normalize=None)\n",
    "\n",
    "plt.show()"
   ]
  },
  {
   "cell_type": "code",
   "execution_count": 14,
   "metadata": {
    "execution": {
     "iopub.execute_input": "2021-09-11T13:16:16.008448Z",
     "iopub.status.busy": "2021-09-11T13:16:16.007698Z",
     "iopub.status.idle": "2021-09-11T13:16:16.613435Z",
     "shell.execute_reply": "2021-09-11T13:16:16.612698Z",
     "shell.execute_reply.started": "2021-09-11T13:02:18.369990Z"
    },
    "papermill": {
     "duration": 0.636657,
     "end_time": "2021-09-11T13:16:16.613606",
     "exception": false,
     "start_time": "2021-09-11T13:16:15.976949",
     "status": "completed"
    },
    "tags": []
   },
   "outputs": [],
   "source": [
    "test = pd.read_csv('/kaggle/input/fake-news/test.csv')"
   ]
  },
  {
   "cell_type": "code",
   "execution_count": 15,
   "metadata": {
    "execution": {
     "iopub.execute_input": "2021-09-11T13:16:16.668007Z",
     "iopub.status.busy": "2021-09-11T13:16:16.667256Z",
     "iopub.status.idle": "2021-09-11T13:16:16.670943Z",
     "shell.execute_reply": "2021-09-11T13:16:16.670380Z",
     "shell.execute_reply.started": "2021-09-11T13:02:20.724535Z"
    },
    "papermill": {
     "duration": 0.03628,
     "end_time": "2021-09-11T13:16:16.671071",
     "exception": false,
     "start_time": "2021-09-11T13:16:16.634791",
     "status": "completed"
    },
    "tags": []
   },
   "outputs": [],
   "source": [
    "test.fillna('Not Available', inplace=True)"
   ]
  },
  {
   "cell_type": "code",
   "execution_count": 16,
   "metadata": {
    "execution": {
     "iopub.execute_input": "2021-09-11T13:16:16.722221Z",
     "iopub.status.busy": "2021-09-11T13:16:16.721569Z",
     "iopub.status.idle": "2021-09-11T13:16:20.433398Z",
     "shell.execute_reply": "2021-09-11T13:16:20.432836Z",
     "shell.execute_reply.started": "2021-09-11T13:02:25.630027Z"
    },
    "papermill": {
     "duration": 3.740685,
     "end_time": "2021-09-11T13:16:20.433556",
     "exception": false,
     "start_time": "2021-09-11T13:16:16.692871",
     "status": "completed"
    },
    "tags": []
   },
   "outputs": [
    {
     "data": {
      "text/html": [
       "<div>\n",
       "<style scoped>\n",
       "    .dataframe tbody tr th:only-of-type {\n",
       "        vertical-align: middle;\n",
       "    }\n",
       "\n",
       "    .dataframe tbody tr th {\n",
       "        vertical-align: top;\n",
       "    }\n",
       "\n",
       "    .dataframe thead th {\n",
       "        text-align: right;\n",
       "    }\n",
       "</style>\n",
       "<table border=\"1\" class=\"dataframe\">\n",
       "  <thead>\n",
       "    <tr style=\"text-align: right;\">\n",
       "      <th></th>\n",
       "      <th>id</th>\n",
       "      <th>title</th>\n",
       "      <th>author</th>\n",
       "      <th>text</th>\n",
       "    </tr>\n",
       "  </thead>\n",
       "  <tbody>\n",
       "    <tr>\n",
       "      <th>0</th>\n",
       "      <td>20800</td>\n",
       "      <td>specter of trump loosens tongues, if not purse...</td>\n",
       "      <td>david streitfeld</td>\n",
       "      <td>palo alto, calif       after years of scorning...</td>\n",
       "    </tr>\n",
       "    <tr>\n",
       "      <th>1</th>\n",
       "      <td>20801</td>\n",
       "      <td>russian warships ready to strike terrorists ne...</td>\n",
       "      <td>not available</td>\n",
       "      <td>russian warships ready to strike terrorists ne...</td>\n",
       "    </tr>\n",
       "    <tr>\n",
       "      <th>2</th>\n",
       "      <td>20802</td>\n",
       "      <td>nodapl  native american leaders vow to stay a...</td>\n",
       "      <td>common dreams</td>\n",
       "      <td>videos  nodapl  native american leaders vow to...</td>\n",
       "    </tr>\n",
       "    <tr>\n",
       "      <th>3</th>\n",
       "      <td>20803</td>\n",
       "      <td>tim tebow will attempt another comeback, this ...</td>\n",
       "      <td>daniel victor</td>\n",
       "      <td>if at first you don t succeed, try a different...</td>\n",
       "    </tr>\n",
       "    <tr>\n",
       "      <th>4</th>\n",
       "      <td>20804</td>\n",
       "      <td>keiser report  meme wars  e</td>\n",
       "      <td>truth broadcast network</td>\n",
       "      <td>mins ago   views   comments   likes  for th...</td>\n",
       "    </tr>\n",
       "  </tbody>\n",
       "</table>\n",
       "</div>"
      ],
      "text/plain": [
       "      id                                              title  \\\n",
       "0  20800  specter of trump loosens tongues, if not purse...   \n",
       "1  20801  russian warships ready to strike terrorists ne...   \n",
       "2  20802   nodapl  native american leaders vow to stay a...   \n",
       "3  20803  tim tebow will attempt another comeback, this ...   \n",
       "4  20804                    keiser report  meme wars  e       \n",
       "\n",
       "                    author                                               text  \n",
       "0         david streitfeld  palo alto, calif       after years of scorning...  \n",
       "1            not available  russian warships ready to strike terrorists ne...  \n",
       "2            common dreams  videos  nodapl  native american leaders vow to...  \n",
       "3            daniel victor  if at first you don t succeed, try a different...  \n",
       "4  truth broadcast network     mins ago   views   comments   likes  for th...  "
      ]
     },
     "execution_count": 16,
     "metadata": {},
     "output_type": "execute_result"
    }
   ],
   "source": [
    "for col in ['title', 'author', 'text']:\n",
    "    test[col] = test[col].apply(lambda x : re.sub('[^a-z,A-Z]', ' ', x).lower())\n",
    "\n",
    "test.head()"
   ]
  },
  {
   "cell_type": "code",
   "execution_count": 17,
   "metadata": {
    "execution": {
     "iopub.execute_input": "2021-09-11T13:16:20.501327Z",
     "iopub.status.busy": "2021-09-11T13:16:20.500566Z",
     "iopub.status.idle": "2021-09-11T13:16:20.504633Z",
     "shell.execute_reply": "2021-09-11T13:16:20.503945Z",
     "shell.execute_reply.started": "2021-09-11T13:02:34.640673Z"
    },
    "papermill": {
     "duration": 0.048696,
     "end_time": "2021-09-11T13:16:20.504777",
     "exception": false,
     "start_time": "2021-09-11T13:16:20.456081",
     "status": "completed"
    },
    "tags": []
   },
   "outputs": [],
   "source": [
    "# Considering all features\n",
    "test['total'] = test['title'] + ' ' + test['author'] + ' ' + test['text']"
   ]
  },
  {
   "cell_type": "code",
   "execution_count": 18,
   "metadata": {
    "execution": {
     "iopub.execute_input": "2021-09-11T13:16:20.569440Z",
     "iopub.status.busy": "2021-09-11T13:16:20.563561Z",
     "iopub.status.idle": "2021-09-11T13:16:27.404770Z",
     "shell.execute_reply": "2021-09-11T13:16:27.404162Z",
     "shell.execute_reply.started": "2021-09-11T13:03:23.704970Z"
    },
    "papermill": {
     "duration": 6.878302,
     "end_time": "2021-09-11T13:16:27.404897",
     "exception": false,
     "start_time": "2021-09-11T13:16:20.526595",
     "status": "completed"
    },
    "tags": []
   },
   "outputs": [],
   "source": [
    "X_act_test = vectorizer.transform(test['total'].values)"
   ]
  },
  {
   "cell_type": "code",
   "execution_count": 19,
   "metadata": {
    "execution": {
     "iopub.execute_input": "2021-09-11T13:16:27.453817Z",
     "iopub.status.busy": "2021-09-11T13:16:27.452815Z",
     "iopub.status.idle": "2021-09-11T13:16:27.463073Z",
     "shell.execute_reply": "2021-09-11T13:16:27.462230Z",
     "shell.execute_reply.started": "2021-09-11T13:03:41.855795Z"
    },
    "papermill": {
     "duration": 0.036792,
     "end_time": "2021-09-11T13:16:27.463193",
     "exception": false,
     "start_time": "2021-09-11T13:16:27.426401",
     "status": "completed"
    },
    "tags": []
   },
   "outputs": [],
   "source": [
    "y_act_pred = classifier.predict(X_act_test)"
   ]
  },
  {
   "cell_type": "code",
   "execution_count": 20,
   "metadata": {
    "execution": {
     "iopub.execute_input": "2021-09-11T13:16:27.517732Z",
     "iopub.status.busy": "2021-09-11T13:16:27.517015Z",
     "iopub.status.idle": "2021-09-11T13:16:27.520425Z",
     "shell.execute_reply": "2021-09-11T13:16:27.519884Z",
     "shell.execute_reply.started": "2021-09-11T13:09:55.875272Z"
    },
    "papermill": {
     "duration": 0.036193,
     "end_time": "2021-09-11T13:16:27.520566",
     "exception": false,
     "start_time": "2021-09-11T13:16:27.484373",
     "status": "completed"
    },
    "tags": []
   },
   "outputs": [],
   "source": [
    "labels = []\n",
    "for i in y_act_pred:\n",
    "    if i == 0:\n",
    "        labels.append('Fake')\n",
    "    else:\n",
    "        labels.append('True')"
   ]
  },
  {
   "cell_type": "code",
   "execution_count": 21,
   "metadata": {
    "execution": {
     "iopub.execute_input": "2021-09-11T13:16:27.570219Z",
     "iopub.status.busy": "2021-09-11T13:16:27.569506Z",
     "iopub.status.idle": "2021-09-11T13:16:27.587854Z",
     "shell.execute_reply": "2021-09-11T13:16:27.587270Z",
     "shell.execute_reply.started": "2021-09-11T13:10:32.215433Z"
    },
    "papermill": {
     "duration": 0.045853,
     "end_time": "2021-09-11T13:16:27.588003",
     "exception": false,
     "start_time": "2021-09-11T13:16:27.542150",
     "status": "completed"
    },
    "tags": []
   },
   "outputs": [
    {
     "data": {
      "text/html": [
       "<div>\n",
       "<style scoped>\n",
       "    .dataframe tbody tr th:only-of-type {\n",
       "        vertical-align: middle;\n",
       "    }\n",
       "\n",
       "    .dataframe tbody tr th {\n",
       "        vertical-align: top;\n",
       "    }\n",
       "\n",
       "    .dataframe thead th {\n",
       "        text-align: right;\n",
       "    }\n",
       "</style>\n",
       "<table border=\"1\" class=\"dataframe\">\n",
       "  <thead>\n",
       "    <tr style=\"text-align: right;\">\n",
       "      <th></th>\n",
       "      <th>id</th>\n",
       "    </tr>\n",
       "    <tr>\n",
       "      <th>label</th>\n",
       "      <th></th>\n",
       "    </tr>\n",
       "  </thead>\n",
       "  <tbody>\n",
       "    <tr>\n",
       "      <th>Fake</th>\n",
       "      <td>2760</td>\n",
       "    </tr>\n",
       "    <tr>\n",
       "      <th>True</th>\n",
       "      <td>2440</td>\n",
       "    </tr>\n",
       "  </tbody>\n",
       "</table>\n",
       "</div>"
      ],
      "text/plain": [
       "         id\n",
       "label      \n",
       "Fake   2760\n",
       "True   2440"
      ]
     },
     "execution_count": 21,
     "metadata": {},
     "output_type": "execute_result"
    }
   ],
   "source": [
    "submission = pd.DataFrame(labels, columns=['label'])\n",
    "submission['id'] = test['id']\n",
    "submission.groupby('label').count()"
   ]
  },
  {
   "cell_type": "code",
   "execution_count": 22,
   "metadata": {
    "execution": {
     "iopub.execute_input": "2021-09-11T13:16:27.643677Z",
     "iopub.status.busy": "2021-09-11T13:16:27.642682Z",
     "iopub.status.idle": "2021-09-11T13:16:27.648364Z",
     "shell.execute_reply": "2021-09-11T13:16:27.647796Z",
     "shell.execute_reply.started": "2021-09-11T13:11:33.199500Z"
    },
    "papermill": {
     "duration": 0.038666,
     "end_time": "2021-09-11T13:16:27.648508",
     "exception": false,
     "start_time": "2021-09-11T13:16:27.609842",
     "status": "completed"
    },
    "tags": []
   },
   "outputs": [
    {
     "data": {
      "text/html": [
       "<div>\n",
       "<style scoped>\n",
       "    .dataframe tbody tr th:only-of-type {\n",
       "        vertical-align: middle;\n",
       "    }\n",
       "\n",
       "    .dataframe tbody tr th {\n",
       "        vertical-align: top;\n",
       "    }\n",
       "\n",
       "    .dataframe thead th {\n",
       "        text-align: right;\n",
       "    }\n",
       "</style>\n",
       "<table border=\"1\" class=\"dataframe\">\n",
       "  <thead>\n",
       "    <tr style=\"text-align: right;\">\n",
       "      <th></th>\n",
       "      <th>label</th>\n",
       "      <th>id</th>\n",
       "    </tr>\n",
       "  </thead>\n",
       "  <tbody>\n",
       "    <tr>\n",
       "      <th>0</th>\n",
       "      <td>Fake</td>\n",
       "      <td>20800</td>\n",
       "    </tr>\n",
       "    <tr>\n",
       "      <th>1</th>\n",
       "      <td>True</td>\n",
       "      <td>20801</td>\n",
       "    </tr>\n",
       "    <tr>\n",
       "      <th>2</th>\n",
       "      <td>True</td>\n",
       "      <td>20802</td>\n",
       "    </tr>\n",
       "    <tr>\n",
       "      <th>3</th>\n",
       "      <td>Fake</td>\n",
       "      <td>20803</td>\n",
       "    </tr>\n",
       "    <tr>\n",
       "      <th>4</th>\n",
       "      <td>True</td>\n",
       "      <td>20804</td>\n",
       "    </tr>\n",
       "    <tr>\n",
       "      <th>5</th>\n",
       "      <td>True</td>\n",
       "      <td>20805</td>\n",
       "    </tr>\n",
       "    <tr>\n",
       "      <th>6</th>\n",
       "      <td>Fake</td>\n",
       "      <td>20806</td>\n",
       "    </tr>\n",
       "    <tr>\n",
       "      <th>7</th>\n",
       "      <td>True</td>\n",
       "      <td>20807</td>\n",
       "    </tr>\n",
       "    <tr>\n",
       "      <th>8</th>\n",
       "      <td>Fake</td>\n",
       "      <td>20808</td>\n",
       "    </tr>\n",
       "    <tr>\n",
       "      <th>9</th>\n",
       "      <td>True</td>\n",
       "      <td>20809</td>\n",
       "    </tr>\n",
       "  </tbody>\n",
       "</table>\n",
       "</div>"
      ],
      "text/plain": [
       "  label     id\n",
       "0  Fake  20800\n",
       "1  True  20801\n",
       "2  True  20802\n",
       "3  Fake  20803\n",
       "4  True  20804\n",
       "5  True  20805\n",
       "6  Fake  20806\n",
       "7  True  20807\n",
       "8  Fake  20808\n",
       "9  True  20809"
      ]
     },
     "execution_count": 22,
     "metadata": {},
     "output_type": "execute_result"
    }
   ],
   "source": [
    "submission.head(10)"
   ]
  },
  {
   "cell_type": "code",
   "execution_count": 23,
   "metadata": {
    "execution": {
     "iopub.execute_input": "2021-09-11T13:16:27.700213Z",
     "iopub.status.busy": "2021-09-11T13:16:27.699210Z",
     "iopub.status.idle": "2021-09-11T13:16:28.408939Z",
     "shell.execute_reply": "2021-09-11T13:16:28.408262Z",
     "shell.execute_reply.started": "2021-09-11T13:12:34.155374Z"
    },
    "papermill": {
     "duration": 0.737901,
     "end_time": "2021-09-11T13:16:28.409069",
     "exception": false,
     "start_time": "2021-09-11T13:16:27.671168",
     "status": "completed"
    },
    "tags": []
   },
   "outputs": [],
   "source": [
    "submission.to_csv('submission.csv', index = False)"
   ]
  }
 ],
 "metadata": {
  "kernelspec": {
   "display_name": "Python 3",
   "language": "python",
   "name": "python3"
  },
  "language_info": {
   "codemirror_mode": {
    "name": "ipython",
    "version": 3
   },
   "file_extension": ".py",
   "mimetype": "text/x-python",
   "name": "python",
   "nbconvert_exporter": "python",
   "pygments_lexer": "ipython3",
   "version": "3.7.6"
  },
  "papermill": {
   "duration": 94.188321,
   "end_time": "2021-09-11T13:16:28.540385",
   "environment_variables": {},
   "exception": null,
   "input_path": "__notebook__.ipynb",
   "output_path": "__notebook__.ipynb",
   "parameters": {},
   "start_time": "2021-09-11T13:14:54.352064",
   "version": "2.1.0"
  }
 },
 "nbformat": 4,
 "nbformat_minor": 4
}
