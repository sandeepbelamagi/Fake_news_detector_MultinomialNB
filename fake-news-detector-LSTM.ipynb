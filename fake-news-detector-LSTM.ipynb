{
 "cells": [
  {
   "cell_type": "code",
   "execution_count": 1,
   "id": "f9b75283",
   "metadata": {
    "_cell_guid": "b1076dfc-b9ad-4769-8c92-a6c4dae69d19",
    "_uuid": "8f2839f25d086af736a60e9eeb907d3b93b6e0e5",
    "execution": {
     "iopub.execute_input": "2021-09-12T05:58:23.134754Z",
     "iopub.status.busy": "2021-09-12T05:58:23.133143Z",
     "iopub.status.idle": "2021-09-12T05:58:23.212715Z",
     "shell.execute_reply": "2021-09-12T05:58:23.213143Z",
     "shell.execute_reply.started": "2021-09-12T05:52:12.027297Z"
    },
    "papermill": {
     "duration": 0.10081,
     "end_time": "2021-09-12T05:58:23.213417",
     "exception": false,
     "start_time": "2021-09-12T05:58:23.112607",
     "status": "completed"
    },
    "tags": []
   },
   "outputs": [
    {
     "name": "stdout",
     "output_type": "stream",
     "text": [
      "/kaggle/input/fake-news/submit.csv\n",
      "/kaggle/input/fake-news/train.csv\n",
      "/kaggle/input/fake-news/test.csv\n"
     ]
    }
   ],
   "source": [
    "# This Python 3 environment comes with many helpful analytics libraries installed\n",
    "# It is defined by the kaggle/python Docker image: https://github.com/kaggle/docker-python\n",
    "# For example, here's several helpful packages to load\n",
    "\n",
    "import numpy as np # linear algebra\n",
    "import pandas as pd # data processing, CSV file I/O (e.g. pd.read_csv)\n",
    "\n",
    "# Input data files are available in the read-only \"../input/\" directory\n",
    "# For example, running this (by clicking run or pressing Shift+Enter) will list all files under the input directory\n",
    "\n",
    "import os\n",
    "for dirname, _, filenames in os.walk('/kaggle/input'):\n",
    "    for filename in filenames:\n",
    "        print(os.path.join(dirname, filename))\n",
    "\n",
    "# You can write up to 20GB to the current directory (/kaggle/working/) that gets preserved as output when you create a version using \"Save & Run All\" \n",
    "# You can also write temporary files to /kaggle/temp/, but they won't be saved outside of the current session"
   ]
  },
  {
   "cell_type": "code",
   "execution_count": 2,
   "id": "54eb0562",
   "metadata": {
    "execution": {
     "iopub.execute_input": "2021-09-12T05:58:23.250027Z",
     "iopub.status.busy": "2021-09-12T05:58:23.249397Z",
     "iopub.status.idle": "2021-09-12T05:58:27.339377Z",
     "shell.execute_reply": "2021-09-12T05:58:27.339951Z",
     "shell.execute_reply.started": "2021-09-12T05:52:12.121451Z"
    },
    "papermill": {
     "duration": 4.109407,
     "end_time": "2021-09-12T05:58:27.340147",
     "exception": false,
     "start_time": "2021-09-12T05:58:23.230740",
     "status": "completed"
    },
    "tags": []
   },
   "outputs": [
    {
     "name": "stderr",
     "output_type": "stream",
     "text": [
      "2021-09-12 05:58:23.717811: I tensorflow/stream_executor/platform/default/dso_loader.cc:49] Successfully opened dynamic library libcudart.so.11.0\n"
     ]
    }
   ],
   "source": [
    "import numpy as np\n",
    "import pandas as pd\n",
    "import matplotlib.pyplot as plt\n",
    "from tensorflow.keras.layers import Embedding,LSTM,Dense,Dropout\n",
    "from tensorflow.keras.preprocessing.sequence import pad_sequences\n",
    "from tensorflow.keras.models import Sequential\n",
    "from tensorflow.keras.preprocessing.text import one_hot"
   ]
  },
  {
   "cell_type": "code",
   "execution_count": 3,
   "id": "135f69a1",
   "metadata": {
    "execution": {
     "iopub.execute_input": "2021-09-12T05:58:27.400813Z",
     "iopub.status.busy": "2021-09-12T05:58:27.399891Z",
     "iopub.status.idle": "2021-09-12T05:58:30.337336Z",
     "shell.execute_reply": "2021-09-12T05:58:30.337765Z",
     "shell.execute_reply.started": "2021-09-12T05:52:17.293373Z"
    },
    "papermill": {
     "duration": 2.975117,
     "end_time": "2021-09-12T05:58:30.337928",
     "exception": false,
     "start_time": "2021-09-12T05:58:27.362811",
     "status": "completed"
    },
    "tags": []
   },
   "outputs": [],
   "source": [
    "df = pd.read_csv('../input/fake-news/train.csv')\n",
    "test = pd.read_csv('../input/fake-news/test.csv')"
   ]
  },
  {
   "cell_type": "code",
   "execution_count": 4,
   "id": "3493c9ee",
   "metadata": {
    "execution": {
     "iopub.execute_input": "2021-09-12T05:58:30.378259Z",
     "iopub.status.busy": "2021-09-12T05:58:30.377456Z",
     "iopub.status.idle": "2021-09-12T05:58:30.392941Z",
     "shell.execute_reply": "2021-09-12T05:58:30.393352Z",
     "shell.execute_reply.started": "2021-09-12T05:52:19.943622Z"
    },
    "papermill": {
     "duration": 0.04019,
     "end_time": "2021-09-12T05:58:30.393471",
     "exception": false,
     "start_time": "2021-09-12T05:58:30.353281",
     "status": "completed"
    },
    "tags": []
   },
   "outputs": [
    {
     "data": {
      "text/html": [
       "<div>\n",
       "<style scoped>\n",
       "    .dataframe tbody tr th:only-of-type {\n",
       "        vertical-align: middle;\n",
       "    }\n",
       "\n",
       "    .dataframe tbody tr th {\n",
       "        vertical-align: top;\n",
       "    }\n",
       "\n",
       "    .dataframe thead th {\n",
       "        text-align: right;\n",
       "    }\n",
       "</style>\n",
       "<table border=\"1\" class=\"dataframe\">\n",
       "  <thead>\n",
       "    <tr style=\"text-align: right;\">\n",
       "      <th></th>\n",
       "      <th>id</th>\n",
       "      <th>title</th>\n",
       "      <th>author</th>\n",
       "      <th>text</th>\n",
       "      <th>label</th>\n",
       "    </tr>\n",
       "  </thead>\n",
       "  <tbody>\n",
       "    <tr>\n",
       "      <th>0</th>\n",
       "      <td>0</td>\n",
       "      <td>House Dem Aide: We Didn’t Even See Comey’s Let...</td>\n",
       "      <td>Darrell Lucus</td>\n",
       "      <td>House Dem Aide: We Didn’t Even See Comey’s Let...</td>\n",
       "      <td>1</td>\n",
       "    </tr>\n",
       "    <tr>\n",
       "      <th>1</th>\n",
       "      <td>1</td>\n",
       "      <td>FLYNN: Hillary Clinton, Big Woman on Campus - ...</td>\n",
       "      <td>Daniel J. Flynn</td>\n",
       "      <td>Ever get the feeling your life circles the rou...</td>\n",
       "      <td>0</td>\n",
       "    </tr>\n",
       "    <tr>\n",
       "      <th>2</th>\n",
       "      <td>2</td>\n",
       "      <td>Why the Truth Might Get You Fired</td>\n",
       "      <td>Consortiumnews.com</td>\n",
       "      <td>Why the Truth Might Get You Fired October 29, ...</td>\n",
       "      <td>1</td>\n",
       "    </tr>\n",
       "    <tr>\n",
       "      <th>3</th>\n",
       "      <td>3</td>\n",
       "      <td>15 Civilians Killed In Single US Airstrike Hav...</td>\n",
       "      <td>Jessica Purkiss</td>\n",
       "      <td>Videos 15 Civilians Killed In Single US Airstr...</td>\n",
       "      <td>1</td>\n",
       "    </tr>\n",
       "    <tr>\n",
       "      <th>4</th>\n",
       "      <td>4</td>\n",
       "      <td>Iranian woman jailed for fictional unpublished...</td>\n",
       "      <td>Howard Portnoy</td>\n",
       "      <td>Print \\nAn Iranian woman has been sentenced to...</td>\n",
       "      <td>1</td>\n",
       "    </tr>\n",
       "  </tbody>\n",
       "</table>\n",
       "</div>"
      ],
      "text/plain": [
       "   id                                              title              author  \\\n",
       "0   0  House Dem Aide: We Didn’t Even See Comey’s Let...       Darrell Lucus   \n",
       "1   1  FLYNN: Hillary Clinton, Big Woman on Campus - ...     Daniel J. Flynn   \n",
       "2   2                  Why the Truth Might Get You Fired  Consortiumnews.com   \n",
       "3   3  15 Civilians Killed In Single US Airstrike Hav...     Jessica Purkiss   \n",
       "4   4  Iranian woman jailed for fictional unpublished...      Howard Portnoy   \n",
       "\n",
       "                                                text  label  \n",
       "0  House Dem Aide: We Didn’t Even See Comey’s Let...      1  \n",
       "1  Ever get the feeling your life circles the rou...      0  \n",
       "2  Why the Truth Might Get You Fired October 29, ...      1  \n",
       "3  Videos 15 Civilians Killed In Single US Airstr...      1  \n",
       "4  Print \\nAn Iranian woman has been sentenced to...      1  "
      ]
     },
     "execution_count": 4,
     "metadata": {},
     "output_type": "execute_result"
    }
   ],
   "source": [
    "df.head()"
   ]
  },
  {
   "cell_type": "code",
   "execution_count": 5,
   "id": "eb69e244",
   "metadata": {
    "execution": {
     "iopub.execute_input": "2021-09-12T05:58:30.427403Z",
     "iopub.status.busy": "2021-09-12T05:58:30.426846Z",
     "iopub.status.idle": "2021-09-12T05:58:30.441250Z",
     "shell.execute_reply": "2021-09-12T05:58:30.442133Z",
     "shell.execute_reply.started": "2021-09-12T05:52:19.977813Z"
    },
    "papermill": {
     "duration": 0.033558,
     "end_time": "2021-09-12T05:58:30.442291",
     "exception": false,
     "start_time": "2021-09-12T05:58:30.408733",
     "status": "completed"
    },
    "tags": []
   },
   "outputs": [],
   "source": [
    "#filling NULL values with empty string\n",
    "df=df.fillna('')\n",
    "test=test.fillna('')"
   ]
  },
  {
   "cell_type": "code",
   "execution_count": 6,
   "id": "175fb1a9",
   "metadata": {
    "execution": {
     "iopub.execute_input": "2021-09-12T05:58:30.484348Z",
     "iopub.status.busy": "2021-09-12T05:58:30.475999Z",
     "iopub.status.idle": "2021-09-12T05:58:30.489869Z",
     "shell.execute_reply": "2021-09-12T05:58:30.489439Z",
     "shell.execute_reply.started": "2021-09-12T05:52:20.000873Z"
    },
    "papermill": {
     "duration": 0.032429,
     "end_time": "2021-09-12T05:58:30.489968",
     "exception": false,
     "start_time": "2021-09-12T05:58:30.457539",
     "status": "completed"
    },
    "tags": []
   },
   "outputs": [
    {
     "data": {
      "text/plain": [
       "id        0\n",
       "title     0\n",
       "author    0\n",
       "text      0\n",
       "label     0\n",
       "dtype: int64"
      ]
     },
     "execution_count": 6,
     "metadata": {},
     "output_type": "execute_result"
    }
   ],
   "source": [
    "df.isnull().sum()"
   ]
  },
  {
   "cell_type": "code",
   "execution_count": 7,
   "id": "1b3293ea",
   "metadata": {
    "execution": {
     "iopub.execute_input": "2021-09-12T05:58:30.526601Z",
     "iopub.status.busy": "2021-09-12T05:58:30.525907Z",
     "iopub.status.idle": "2021-09-12T05:58:30.550884Z",
     "shell.execute_reply": "2021-09-12T05:58:30.551368Z",
     "shell.execute_reply.started": "2021-09-12T05:52:20.022307Z"
    },
    "papermill": {
     "duration": 0.046031,
     "end_time": "2021-09-12T05:58:30.551499",
     "exception": false,
     "start_time": "2021-09-12T05:58:30.505468",
     "status": "completed"
    },
    "tags": []
   },
   "outputs": [],
   "source": [
    "# We will be only using title and author name for prediction\n",
    "# Creating new coolumn total concatenating title and author\n",
    "df['total'] = df['title']+' '+df['author']#+' '+df['text']\n",
    "test['total']=test['title']+' '+test['author']#+' '+df['text']\n",
    "#Didnot added the text column beacuse its too much of time when tokenizing it."
   ]
  },
  {
   "cell_type": "code",
   "execution_count": 8,
   "id": "e2f1cff4",
   "metadata": {
    "execution": {
     "iopub.execute_input": "2021-09-12T05:58:30.588108Z",
     "iopub.status.busy": "2021-09-12T05:58:30.587235Z",
     "iopub.status.idle": "2021-09-12T05:58:30.596952Z",
     "shell.execute_reply": "2021-09-12T05:58:30.596322Z",
     "shell.execute_reply.started": "2021-09-12T05:52:20.057565Z"
    },
    "papermill": {
     "duration": 0.029573,
     "end_time": "2021-09-12T05:58:30.597107",
     "exception": false,
     "start_time": "2021-09-12T05:58:30.567534",
     "status": "completed"
    },
    "tags": []
   },
   "outputs": [
    {
     "name": "stdout",
     "output_type": "stream",
     "text": [
      "(20800, 5)\n",
      "(20800,)\n"
     ]
    }
   ],
   "source": [
    "X = df.drop('label',axis=1)\n",
    "y=df['label']\n",
    "print(X.shape)\n",
    "print(y.shape)"
   ]
  },
  {
   "cell_type": "code",
   "execution_count": 9,
   "id": "fd11c985",
   "metadata": {
    "execution": {
     "iopub.execute_input": "2021-09-12T05:58:30.635591Z",
     "iopub.status.busy": "2021-09-12T05:58:30.635048Z",
     "iopub.status.idle": "2021-09-12T05:58:30.638775Z",
     "shell.execute_reply": "2021-09-12T05:58:30.638345Z",
     "shell.execute_reply.started": "2021-09-12T05:52:20.074024Z"
    },
    "papermill": {
     "duration": 0.024713,
     "end_time": "2021-09-12T05:58:30.638876",
     "exception": false,
     "start_time": "2021-09-12T05:58:30.614163",
     "status": "completed"
    },
    "tags": []
   },
   "outputs": [],
   "source": [
    "#Choosing vocabulary size to be 5000 and copying data to msg for further cleaning\n",
    "voc_size = 5000\n",
    "msg = X.copy()\n",
    "msg_test = test.copy()"
   ]
  },
  {
   "cell_type": "code",
   "execution_count": 10,
   "id": "4a28d890",
   "metadata": {
    "execution": {
     "iopub.execute_input": "2021-09-12T05:58:30.675152Z",
     "iopub.status.busy": "2021-09-12T05:58:30.674530Z",
     "iopub.status.idle": "2021-09-12T05:58:31.609334Z",
     "shell.execute_reply": "2021-09-12T05:58:31.608836Z",
     "shell.execute_reply.started": "2021-09-12T05:52:20.084466Z"
    },
    "papermill": {
     "duration": 0.95437,
     "end_time": "2021-09-12T05:58:31.609469",
     "exception": false,
     "start_time": "2021-09-12T05:58:30.655099",
     "status": "completed"
    },
    "tags": []
   },
   "outputs": [],
   "source": [
    "import nltk\n",
    "import re\n",
    "from nltk.corpus import stopwords"
   ]
  },
  {
   "cell_type": "code",
   "execution_count": 11,
   "id": "d9f2a5d0",
   "metadata": {
    "execution": {
     "iopub.execute_input": "2021-09-12T05:58:31.645262Z",
     "iopub.status.busy": "2021-09-12T05:58:31.644734Z",
     "iopub.status.idle": "2021-09-12T05:58:31.648804Z",
     "shell.execute_reply": "2021-09-12T05:58:31.648385Z",
     "shell.execute_reply.started": "2021-09-12T05:52:21.348524Z"
    },
    "papermill": {
     "duration": 0.0231,
     "end_time": "2021-09-12T05:58:31.648903",
     "exception": false,
     "start_time": "2021-09-12T05:58:31.625803",
     "status": "completed"
    },
    "tags": []
   },
   "outputs": [],
   "source": [
    "#Stemming map words to their root forms\n",
    "from nltk.stem.porter import PorterStemmer\n",
    "ps = PorterStemmer()\n",
    "corpus = []"
   ]
  },
  {
   "cell_type": "code",
   "execution_count": 12,
   "id": "b3e3a4cb",
   "metadata": {
    "execution": {
     "iopub.execute_input": "2021-09-12T05:58:31.686140Z",
     "iopub.status.busy": "2021-09-12T05:58:31.685549Z",
     "iopub.status.idle": "2021-09-12T05:59:12.349746Z",
     "shell.execute_reply": "2021-09-12T05:59:12.348820Z",
     "shell.execute_reply.started": "2021-09-12T05:52:21.358879Z"
    },
    "papermill": {
     "duration": 40.685186,
     "end_time": "2021-09-12T05:59:12.349888",
     "exception": false,
     "start_time": "2021-09-12T05:58:31.664702",
     "status": "completed"
    },
    "tags": []
   },
   "outputs": [],
   "source": [
    "#Applying stemming and some preprocessing\n",
    "for i in range(len(msg)):\n",
    "  review = re.sub('[^a-zA-Z]',' ',msg['total'][i])\n",
    "  review = review.lower()\n",
    "  review = review.split()\n",
    "  review = [ps.stem(word) for word in review if not word in stopwords.words('english')]\n",
    "  review = ' '.join(review)\n",
    "  corpus.append(review)"
   ]
  },
  {
   "cell_type": "code",
   "execution_count": 13,
   "id": "0c2119b0",
   "metadata": {
    "execution": {
     "iopub.execute_input": "2021-09-12T05:59:12.388760Z",
     "iopub.status.busy": "2021-09-12T05:59:12.387923Z",
     "iopub.status.idle": "2021-09-12T05:59:22.321980Z",
     "shell.execute_reply": "2021-09-12T05:59:22.323141Z",
     "shell.execute_reply.started": "2021-09-12T05:53:16.096254Z"
    },
    "papermill": {
     "duration": 9.957099,
     "end_time": "2021-09-12T05:59:22.323407",
     "exception": false,
     "start_time": "2021-09-12T05:59:12.366308",
     "status": "completed"
    },
    "tags": []
   },
   "outputs": [],
   "source": [
    "#Applying stemming and some preprocessing for test data\n",
    "corpus_test = []\n",
    "for i in range(len(msg_test)):\n",
    "  review = re.sub('[^a-zA-Z]',' ',msg_test['total'][i])\n",
    "  review = review.lower()\n",
    "  review = review.split()\n",
    "  review = [ps.stem(word) for word in review if not word in stopwords.words('english')]\n",
    "  review = ' '.join(review)\n",
    "  corpus_test.append(review)"
   ]
  },
  {
   "cell_type": "code",
   "execution_count": 14,
   "id": "20912290",
   "metadata": {
    "execution": {
     "iopub.execute_input": "2021-09-12T05:59:22.408696Z",
     "iopub.status.busy": "2021-09-12T05:59:22.403352Z",
     "iopub.status.idle": "2021-09-12T05:59:23.033857Z",
     "shell.execute_reply": "2021-09-12T05:59:23.033334Z",
     "shell.execute_reply.started": "2021-09-12T05:53:29.201781Z"
    },
    "papermill": {
     "duration": 0.675886,
     "end_time": "2021-09-12T05:59:23.033993",
     "exception": false,
     "start_time": "2021-09-12T05:59:22.358107",
     "status": "completed"
    },
    "tags": []
   },
   "outputs": [],
   "source": [
    "# Converting to one hot representation\n",
    "onehot_rep = [one_hot(words,voc_size)for words in corpus]\n",
    "onehot_rep_test = [one_hot(words,voc_size)for words in corpus_test]"
   ]
  },
  {
   "cell_type": "code",
   "execution_count": 15,
   "id": "6455a4d5",
   "metadata": {
    "execution": {
     "iopub.execute_input": "2021-09-12T05:59:23.076852Z",
     "iopub.status.busy": "2021-09-12T05:59:23.075917Z",
     "iopub.status.idle": "2021-09-12T05:59:23.248642Z",
     "shell.execute_reply": "2021-09-12T05:59:23.249032Z",
     "shell.execute_reply.started": "2021-09-12T05:53:29.565690Z"
    },
    "papermill": {
     "duration": 0.197384,
     "end_time": "2021-09-12T05:59:23.249177",
     "exception": false,
     "start_time": "2021-09-12T05:59:23.051793",
     "status": "completed"
    },
    "tags": []
   },
   "outputs": [],
   "source": [
    "#Padding Sentences to make them of same size\n",
    "embedded_docs = pad_sequences(onehot_rep,padding='pre',maxlen=25)\n",
    "embedded_docs_test = pad_sequences(onehot_rep_test,padding='pre',maxlen=25)"
   ]
  },
  {
   "cell_type": "code",
   "execution_count": 16,
   "id": "49f05567",
   "metadata": {
    "execution": {
     "iopub.execute_input": "2021-09-12T05:59:23.288429Z",
     "iopub.status.busy": "2021-09-12T05:59:23.287797Z",
     "iopub.status.idle": "2021-09-12T05:59:25.554418Z",
     "shell.execute_reply": "2021-09-12T05:59:25.553794Z",
     "shell.execute_reply.started": "2021-09-12T05:53:48.415041Z"
    },
    "papermill": {
     "duration": 2.288903,
     "end_time": "2021-09-12T05:59:25.554577",
     "exception": false,
     "start_time": "2021-09-12T05:59:23.265674",
     "status": "completed"
    },
    "tags": []
   },
   "outputs": [
    {
     "name": "stderr",
     "output_type": "stream",
     "text": [
      "2021-09-12 05:59:23.300094: I tensorflow/compiler/jit/xla_cpu_device.cc:41] Not creating XLA devices, tf_xla_enable_xla_devices not set\n",
      "2021-09-12 05:59:23.303418: I tensorflow/stream_executor/platform/default/dso_loader.cc:49] Successfully opened dynamic library libcuda.so.1\n",
      "2021-09-12 05:59:23.358291: I tensorflow/stream_executor/cuda/cuda_gpu_executor.cc:941] successful NUMA node read from SysFS had negative value (-1), but there must be at least one NUMA node, so returning NUMA node zero\n",
      "2021-09-12 05:59:23.358947: I tensorflow/core/common_runtime/gpu/gpu_device.cc:1720] Found device 0 with properties: \n",
      "pciBusID: 0000:00:04.0 name: Tesla P100-PCIE-16GB computeCapability: 6.0\n",
      "coreClock: 1.3285GHz coreCount: 56 deviceMemorySize: 15.90GiB deviceMemoryBandwidth: 681.88GiB/s\n",
      "2021-09-12 05:59:23.358995: I tensorflow/stream_executor/platform/default/dso_loader.cc:49] Successfully opened dynamic library libcudart.so.11.0\n",
      "2021-09-12 05:59:23.390955: I tensorflow/stream_executor/platform/default/dso_loader.cc:49] Successfully opened dynamic library libcublas.so.11\n",
      "2021-09-12 05:59:23.391038: I tensorflow/stream_executor/platform/default/dso_loader.cc:49] Successfully opened dynamic library libcublasLt.so.11\n",
      "2021-09-12 05:59:23.405710: I tensorflow/stream_executor/platform/default/dso_loader.cc:49] Successfully opened dynamic library libcufft.so.10\n",
      "2021-09-12 05:59:23.427504: I tensorflow/stream_executor/platform/default/dso_loader.cc:49] Successfully opened dynamic library libcurand.so.10\n",
      "2021-09-12 05:59:23.454368: I tensorflow/stream_executor/platform/default/dso_loader.cc:49] Successfully opened dynamic library libcusolver.so.10\n",
      "2021-09-12 05:59:23.461942: I tensorflow/stream_executor/platform/default/dso_loader.cc:49] Successfully opened dynamic library libcusparse.so.11\n",
      "2021-09-12 05:59:23.466864: I tensorflow/stream_executor/platform/default/dso_loader.cc:49] Successfully opened dynamic library libcudnn.so.8\n",
      "2021-09-12 05:59:23.467043: I tensorflow/stream_executor/cuda/cuda_gpu_executor.cc:941] successful NUMA node read from SysFS had negative value (-1), but there must be at least one NUMA node, so returning NUMA node zero\n",
      "2021-09-12 05:59:23.467801: I tensorflow/stream_executor/cuda/cuda_gpu_executor.cc:941] successful NUMA node read from SysFS had negative value (-1), but there must be at least one NUMA node, so returning NUMA node zero\n",
      "2021-09-12 05:59:23.469200: I tensorflow/core/common_runtime/gpu/gpu_device.cc:1862] Adding visible gpu devices: 0\n",
      "2021-09-12 05:59:23.469669: I tensorflow/core/platform/cpu_feature_guard.cc:142] This TensorFlow binary is optimized with oneAPI Deep Neural Network Library (oneDNN) to use the following CPU instructions in performance-critical operations:  AVX2 AVX512F FMA\n",
      "To enable them in other operations, rebuild TensorFlow with the appropriate compiler flags.\n",
      "2021-09-12 05:59:23.469869: I tensorflow/compiler/jit/xla_gpu_device.cc:99] Not creating XLA devices, tf_xla_enable_xla_devices not set\n",
      "2021-09-12 05:59:23.470034: I tensorflow/stream_executor/cuda/cuda_gpu_executor.cc:941] successful NUMA node read from SysFS had negative value (-1), but there must be at least one NUMA node, so returning NUMA node zero\n",
      "2021-09-12 05:59:23.470610: I tensorflow/core/common_runtime/gpu/gpu_device.cc:1720] Found device 0 with properties: \n",
      "pciBusID: 0000:00:04.0 name: Tesla P100-PCIE-16GB computeCapability: 6.0\n",
      "coreClock: 1.3285GHz coreCount: 56 deviceMemorySize: 15.90GiB deviceMemoryBandwidth: 681.88GiB/s\n",
      "2021-09-12 05:59:23.470648: I tensorflow/stream_executor/platform/default/dso_loader.cc:49] Successfully opened dynamic library libcudart.so.11.0\n",
      "2021-09-12 05:59:23.470676: I tensorflow/stream_executor/platform/default/dso_loader.cc:49] Successfully opened dynamic library libcublas.so.11\n",
      "2021-09-12 05:59:23.470694: I tensorflow/stream_executor/platform/default/dso_loader.cc:49] Successfully opened dynamic library libcublasLt.so.11\n",
      "2021-09-12 05:59:23.470711: I tensorflow/stream_executor/platform/default/dso_loader.cc:49] Successfully opened dynamic library libcufft.so.10\n",
      "2021-09-12 05:59:23.470728: I tensorflow/stream_executor/platform/default/dso_loader.cc:49] Successfully opened dynamic library libcurand.so.10\n",
      "2021-09-12 05:59:23.470745: I tensorflow/stream_executor/platform/default/dso_loader.cc:49] Successfully opened dynamic library libcusolver.so.10\n",
      "2021-09-12 05:59:23.470777: I tensorflow/stream_executor/platform/default/dso_loader.cc:49] Successfully opened dynamic library libcusparse.so.11\n",
      "2021-09-12 05:59:23.470796: I tensorflow/stream_executor/platform/default/dso_loader.cc:49] Successfully opened dynamic library libcudnn.so.8\n",
      "2021-09-12 05:59:23.470870: I tensorflow/stream_executor/cuda/cuda_gpu_executor.cc:941] successful NUMA node read from SysFS had negative value (-1), but there must be at least one NUMA node, so returning NUMA node zero\n",
      "2021-09-12 05:59:23.471522: I tensorflow/stream_executor/cuda/cuda_gpu_executor.cc:941] successful NUMA node read from SysFS had negative value (-1), but there must be at least one NUMA node, so returning NUMA node zero\n",
      "2021-09-12 05:59:23.472049: I tensorflow/core/common_runtime/gpu/gpu_device.cc:1862] Adding visible gpu devices: 0\n",
      "2021-09-12 05:59:23.473215: I tensorflow/stream_executor/platform/default/dso_loader.cc:49] Successfully opened dynamic library libcudart.so.11.0\n",
      "2021-09-12 05:59:24.939504: I tensorflow/core/common_runtime/gpu/gpu_device.cc:1261] Device interconnect StreamExecutor with strength 1 edge matrix:\n",
      "2021-09-12 05:59:24.939556: I tensorflow/core/common_runtime/gpu/gpu_device.cc:1267]      0 \n",
      "2021-09-12 05:59:24.939566: I tensorflow/core/common_runtime/gpu/gpu_device.cc:1280] 0:   N \n",
      "2021-09-12 05:59:24.941665: I tensorflow/stream_executor/cuda/cuda_gpu_executor.cc:941] successful NUMA node read from SysFS had negative value (-1), but there must be at least one NUMA node, so returning NUMA node zero\n",
      "2021-09-12 05:59:24.942441: I tensorflow/stream_executor/cuda/cuda_gpu_executor.cc:941] successful NUMA node read from SysFS had negative value (-1), but there must be at least one NUMA node, so returning NUMA node zero\n",
      "2021-09-12 05:59:24.943115: I tensorflow/stream_executor/cuda/cuda_gpu_executor.cc:941] successful NUMA node read from SysFS had negative value (-1), but there must be at least one NUMA node, so returning NUMA node zero\n",
      "2021-09-12 05:59:24.943702: I tensorflow/core/common_runtime/gpu/gpu_device.cc:1406] Created TensorFlow device (/job:localhost/replica:0/task:0/device:GPU:0 with 14957 MB memory) -> physical GPU (device: 0, name: Tesla P100-PCIE-16GB, pci bus id: 0000:00:04.0, compute capability: 6.0)\n"
     ]
    },
    {
     "name": "stdout",
     "output_type": "stream",
     "text": [
      "Model: \"sequential\"\n",
      "_________________________________________________________________\n",
      "Layer (type)                 Output Shape              Param #   \n",
      "=================================================================\n",
      "embedding (Embedding)        (None, 25, 40)            200000    \n",
      "_________________________________________________________________\n",
      "dropout (Dropout)            (None, 25, 40)            0         \n",
      "_________________________________________________________________\n",
      "lstm (LSTM)                  (None, 100)               56400     \n",
      "_________________________________________________________________\n",
      "dropout_1 (Dropout)          (None, 100)               0         \n",
      "_________________________________________________________________\n",
      "dense (Dense)                (None, 64)                6464      \n",
      "_________________________________________________________________\n",
      "dropout_2 (Dropout)          (None, 64)                0         \n",
      "_________________________________________________________________\n",
      "dense_1 (Dense)              (None, 1)                 65        \n",
      "=================================================================\n",
      "Total params: 262,929\n",
      "Trainable params: 262,929\n",
      "Non-trainable params: 0\n",
      "_________________________________________________________________\n",
      "None\n"
     ]
    }
   ],
   "source": [
    "#We have used embedding layers with LSTM\n",
    "model = Sequential()\n",
    "model.add(Embedding(voc_size,40,input_length=25))\n",
    "model.add(Dropout(0.3))\n",
    "model.add(LSTM(100))\n",
    "model.add(Dropout(0.3))\n",
    "model.add(Dense(64,activation='relu'))\n",
    "model.add(Dropout(0.3))\n",
    "model.add(Dense(1,activation='sigmoid'))\n",
    "model.compile(loss='binary_crossentropy',optimizer='adam',metrics=['accuracy'])\n",
    "print(model.summary())"
   ]
  },
  {
   "cell_type": "code",
   "execution_count": 17,
   "id": "24584185",
   "metadata": {
    "execution": {
     "iopub.execute_input": "2021-09-12T05:59:25.594040Z",
     "iopub.status.busy": "2021-09-12T05:59:25.593137Z",
     "iopub.status.idle": "2021-09-12T05:59:25.599297Z",
     "shell.execute_reply": "2021-09-12T05:59:25.599696Z",
     "shell.execute_reply.started": "2021-09-12T05:54:33.421039Z"
    },
    "papermill": {
     "duration": 0.027414,
     "end_time": "2021-09-12T05:59:25.599811",
     "exception": false,
     "start_time": "2021-09-12T05:59:25.572397",
     "status": "completed"
    },
    "tags": []
   },
   "outputs": [
    {
     "data": {
      "text/plain": [
       "((20800, 25), (20800,), (5200, 25))"
      ]
     },
     "execution_count": 17,
     "metadata": {},
     "output_type": "execute_result"
    }
   ],
   "source": [
    "#Converting into numpy array\n",
    "X_final = np.array(embedded_docs)\n",
    "y_final = np.array(y)\n",
    "test_final = np.array(embedded_docs_test)\n",
    "X_final.shape,y_final.shape,test_final.shape"
   ]
  },
  {
   "cell_type": "code",
   "execution_count": 18,
   "id": "51b483ae",
   "metadata": {
    "execution": {
     "iopub.execute_input": "2021-09-12T05:59:25.637521Z",
     "iopub.status.busy": "2021-09-12T05:59:25.636905Z",
     "iopub.status.idle": "2021-09-12T06:00:12.195233Z",
     "shell.execute_reply": "2021-09-12T06:00:12.194760Z",
     "shell.execute_reply.started": "2021-09-12T05:55:26.597016Z"
    },
    "papermill": {
     "duration": 46.578571,
     "end_time": "2021-09-12T06:00:12.195359",
     "exception": false,
     "start_time": "2021-09-12T05:59:25.616788",
     "status": "completed"
    },
    "tags": []
   },
   "outputs": [
    {
     "name": "stdout",
     "output_type": "stream",
     "text": [
      "Epoch 1/20\n"
     ]
    },
    {
     "name": "stderr",
     "output_type": "stream",
     "text": [
      "2021-09-12 05:59:25.672835: I tensorflow/compiler/mlir/mlir_graph_optimization_pass.cc:116] None of the MLIR optimization passes are enabled (registered 2)\n",
      "2021-09-12 05:59:25.682243: I tensorflow/core/platform/profile_utils/cpu_utils.cc:112] CPU Frequency: 2000179999 Hz\n",
      "2021-09-12 05:59:27.010477: I tensorflow/stream_executor/platform/default/dso_loader.cc:49] Successfully opened dynamic library libcublas.so.11\n",
      "2021-09-12 05:59:27.766700: I tensorflow/stream_executor/platform/default/dso_loader.cc:49] Successfully opened dynamic library libcublasLt.so.11\n",
      "2021-09-12 05:59:27.810618: I tensorflow/stream_executor/platform/default/dso_loader.cc:49] Successfully opened dynamic library libcudnn.so.8\n"
     ]
    },
    {
     "name": "stdout",
     "output_type": "stream",
     "text": [
      "325/325 [==============================] - 9s 6ms/step - loss: 0.3096 - accuracy: 0.8695\n",
      "Epoch 2/20\n",
      "325/325 [==============================] - 2s 6ms/step - loss: 0.0200 - accuracy: 0.9947\n",
      "Epoch 3/20\n",
      "325/325 [==============================] - 2s 7ms/step - loss: 0.0109 - accuracy: 0.9973\n",
      "Epoch 4/20\n",
      "325/325 [==============================] - 2s 6ms/step - loss: 0.0052 - accuracy: 0.9984\n",
      "Epoch 5/20\n",
      "325/325 [==============================] - 2s 6ms/step - loss: 0.0029 - accuracy: 0.9991\n",
      "Epoch 6/20\n",
      "325/325 [==============================] - 2s 7ms/step - loss: 0.0025 - accuracy: 0.9990\n",
      "Epoch 7/20\n",
      "325/325 [==============================] - 2s 6ms/step - loss: 0.0041 - accuracy: 0.9988\n",
      "Epoch 8/20\n",
      "325/325 [==============================] - 2s 6ms/step - loss: 0.0023 - accuracy: 0.9993\n",
      "Epoch 9/20\n",
      "325/325 [==============================] - 2s 6ms/step - loss: 0.0020 - accuracy: 0.9994\n",
      "Epoch 10/20\n",
      "325/325 [==============================] - 2s 6ms/step - loss: 0.0020 - accuracy: 0.9995\n",
      "Epoch 11/20\n",
      "325/325 [==============================] - 2s 6ms/step - loss: 0.0010 - accuracy: 0.9997\n",
      "Epoch 12/20\n",
      "325/325 [==============================] - 2s 7ms/step - loss: 0.0016 - accuracy: 0.9995\n",
      "Epoch 13/20\n",
      "325/325 [==============================] - 2s 6ms/step - loss: 9.7028e-04 - accuracy: 0.9998\n",
      "Epoch 14/20\n",
      "325/325 [==============================] - 2s 6ms/step - loss: 0.0013 - accuracy: 0.9996\n",
      "Epoch 15/20\n",
      "325/325 [==============================] - 2s 6ms/step - loss: 8.3287e-04 - accuracy: 0.9997\n",
      "Epoch 16/20\n",
      "325/325 [==============================] - 2s 6ms/step - loss: 6.5794e-04 - accuracy: 0.9997\n",
      "Epoch 17/20\n",
      "325/325 [==============================] - 2s 6ms/step - loss: 0.0011 - accuracy: 0.9996\n",
      "Epoch 18/20\n",
      "325/325 [==============================] - 2s 6ms/step - loss: 9.5356e-04 - accuracy: 0.9998\n",
      "Epoch 19/20\n",
      "325/325 [==============================] - 2s 6ms/step - loss: 7.6522e-04 - accuracy: 0.9998\n",
      "Epoch 20/20\n",
      "325/325 [==============================] - 2s 7ms/step - loss: 6.4221e-04 - accuracy: 0.9999\n"
     ]
    },
    {
     "data": {
      "text/plain": [
       "<tensorflow.python.keras.callbacks.History at 0x7fbb14293090>"
      ]
     },
     "execution_count": 18,
     "metadata": {},
     "output_type": "execute_result"
    }
   ],
   "source": [
    "#training model\n",
    "model.fit(X_final,y_final,epochs=20,batch_size=64)"
   ]
  },
  {
   "cell_type": "code",
   "execution_count": 19,
   "id": "33926ce7",
   "metadata": {
    "execution": {
     "iopub.execute_input": "2021-09-12T06:00:12.635708Z",
     "iopub.status.busy": "2021-09-12T06:00:12.634894Z",
     "iopub.status.idle": "2021-09-12T06:00:13.214153Z",
     "shell.execute_reply": "2021-09-12T06:00:13.213657Z",
     "shell.execute_reply.started": "2021-09-12T05:57:04.257822Z"
    },
    "papermill": {
     "duration": 0.801523,
     "end_time": "2021-09-12T06:00:13.214311",
     "exception": false,
     "start_time": "2021-09-12T06:00:12.412788",
     "status": "completed"
    },
    "tags": []
   },
   "outputs": [
    {
     "name": "stderr",
     "output_type": "stream",
     "text": [
      "/opt/conda/lib/python3.7/site-packages/tensorflow/python/keras/engine/sequential.py:450: UserWarning: `model.predict_classes()` is deprecated and will be removed after 2021-01-01. Please use instead:* `np.argmax(model.predict(x), axis=-1)`,   if your model does multi-class classification   (e.g. if it uses a `softmax` last-layer activation).* `(model.predict(x) > 0.5).astype(\"int32\")`,   if your model does binary classification   (e.g. if it uses a `sigmoid` last-layer activation).\n",
      "  warnings.warn('`model.predict_classes()` is deprecated and '\n"
     ]
    }
   ],
   "source": [
    "y_pred = model.predict_classes(test_final)"
   ]
  },
  {
   "cell_type": "code",
   "execution_count": 20,
   "id": "357141d1",
   "metadata": {
    "execution": {
     "iopub.execute_input": "2021-09-12T06:00:13.652462Z",
     "iopub.status.busy": "2021-09-12T06:00:13.651597Z",
     "iopub.status.idle": "2021-09-12T06:00:13.664986Z",
     "shell.execute_reply": "2021-09-12T06:00:13.664522Z",
     "shell.execute_reply.started": "2021-09-12T05:57:30.007689Z"
    },
    "papermill": {
     "duration": 0.235959,
     "end_time": "2021-09-12T06:00:13.665094",
     "exception": false,
     "start_time": "2021-09-12T06:00:13.429135",
     "status": "completed"
    },
    "tags": []
   },
   "outputs": [],
   "source": [
    "final_sub = pd.DataFrame()\n",
    "final_sub['id']=test['id']\n",
    "final_sub['label'] = y_pred\n",
    "final_sub.to_csv('final_sub.csv',index=False)"
   ]
  },
  {
   "cell_type": "code",
   "execution_count": 21,
   "id": "e9709927",
   "metadata": {
    "execution": {
     "iopub.execute_input": "2021-09-12T06:00:14.102975Z",
     "iopub.status.busy": "2021-09-12T06:00:14.101823Z",
     "iopub.status.idle": "2021-09-12T06:00:14.104992Z",
     "shell.execute_reply": "2021-09-12T06:00:14.105451Z",
     "shell.execute_reply.started": "2021-09-12T05:57:54.338390Z"
    },
    "papermill": {
     "duration": 0.226951,
     "end_time": "2021-09-12T06:00:14.105615",
     "exception": false,
     "start_time": "2021-09-12T06:00:13.878664",
     "status": "completed"
    },
    "tags": []
   },
   "outputs": [
    {
     "data": {
      "text/html": [
       "<div>\n",
       "<style scoped>\n",
       "    .dataframe tbody tr th:only-of-type {\n",
       "        vertical-align: middle;\n",
       "    }\n",
       "\n",
       "    .dataframe tbody tr th {\n",
       "        vertical-align: top;\n",
       "    }\n",
       "\n",
       "    .dataframe thead th {\n",
       "        text-align: right;\n",
       "    }\n",
       "</style>\n",
       "<table border=\"1\" class=\"dataframe\">\n",
       "  <thead>\n",
       "    <tr style=\"text-align: right;\">\n",
       "      <th></th>\n",
       "      <th>id</th>\n",
       "      <th>label</th>\n",
       "    </tr>\n",
       "  </thead>\n",
       "  <tbody>\n",
       "    <tr>\n",
       "      <th>0</th>\n",
       "      <td>20800</td>\n",
       "      <td>0</td>\n",
       "    </tr>\n",
       "    <tr>\n",
       "      <th>1</th>\n",
       "      <td>20801</td>\n",
       "      <td>1</td>\n",
       "    </tr>\n",
       "    <tr>\n",
       "      <th>2</th>\n",
       "      <td>20802</td>\n",
       "      <td>1</td>\n",
       "    </tr>\n",
       "    <tr>\n",
       "      <th>3</th>\n",
       "      <td>20803</td>\n",
       "      <td>0</td>\n",
       "    </tr>\n",
       "    <tr>\n",
       "      <th>4</th>\n",
       "      <td>20804</td>\n",
       "      <td>1</td>\n",
       "    </tr>\n",
       "  </tbody>\n",
       "</table>\n",
       "</div>"
      ],
      "text/plain": [
       "      id  label\n",
       "0  20800      0\n",
       "1  20801      1\n",
       "2  20802      1\n",
       "3  20803      0\n",
       "4  20804      1"
      ]
     },
     "execution_count": 21,
     "metadata": {},
     "output_type": "execute_result"
    }
   ],
   "source": [
    "final_sub.head()"
   ]
  }
 ],
 "metadata": {
  "kernelspec": {
   "display_name": "Python 3",
   "language": "python",
   "name": "python3"
  },
  "language_info": {
   "codemirror_mode": {
    "name": "ipython",
    "version": 3
   },
   "file_extension": ".py",
   "mimetype": "text/x-python",
   "name": "python",
   "nbconvert_exporter": "python",
   "pygments_lexer": "ipython3",
   "version": "3.7.10"
  },
  "papermill": {
   "default_parameters": {},
   "duration": 120.603455,
   "end_time": "2021-09-12T06:00:17.604951",
   "environment_variables": {},
   "exception": null,
   "input_path": "__notebook__.ipynb",
   "output_path": "__notebook__.ipynb",
   "parameters": {},
   "start_time": "2021-09-12T05:58:17.001496",
   "version": "2.3.3"
  }
 },
 "nbformat": 4,
 "nbformat_minor": 5
}
